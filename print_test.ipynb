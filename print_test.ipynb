{
 "cells": [
  {
   "cell_type": "code",
   "execution_count": 11,
   "metadata": {},
   "outputs": [
    {
     "name": "stdout",
     "output_type": "stream",
     "text": [
      "Hello Mr. put mar your age is 99\n"
     ]
    }
   ],
   "source": [
    "First_Name = input(\"please enter your first name\")\n",
    "Last_Name = input(\"please enter your last name\")\n",
    "Age_Number = input(\"please enter your age\")\n",
    "gender = str(input(\"enter your gender\"))\n",
    "\n",
    "if(gender == \"male\"):\n",
    "    x = \" Mr.\"\n",
    "else:\n",
    "    x = \" Ms.\"\n",
    "\n",
    "\n",
    "print(\"Hello\" + x + \" \" + First_Name + \" \" + Last_Name + \" your age is \" + Age_Number)"
   ]
  }
 ],
 "metadata": {
  "kernelspec": {
   "display_name": "Python 3",
   "language": "python",
   "name": "python3"
  },
  "language_info": {
   "codemirror_mode": {
    "name": "ipython",
    "version": 3
   },
   "file_extension": ".py",
   "mimetype": "text/x-python",
   "name": "python",
   "nbconvert_exporter": "python",
   "pygments_lexer": "ipython3",
   "version": "3.11.5"
  },
  "orig_nbformat": 4
 },
 "nbformat": 4,
 "nbformat_minor": 2
}
