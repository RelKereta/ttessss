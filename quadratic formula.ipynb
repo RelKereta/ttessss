{
 "cells": [
  {
   "cell_type": "code",
   "execution_count": 13,
   "metadata": {},
   "outputs": [
    {
     "name": "stdout",
     "output_type": "stream",
     "text": [
      "my name is rtete, and my age is rrr\n"
     ]
    }
   ],
   "source": [
    "x = input(\"enter your age\")\n",
    "\n",
    "y = input(\"input your name\")\n",
    "print(\"my name is \" + y + \", and my age is \" + x)"
   ]
  },
  {
   "cell_type": "code",
   "execution_count": 16,
   "metadata": {},
   "outputs": [
    {
     "name": "stdout",
     "output_type": "stream",
     "text": [
      "6.0\n",
      "-2.0\n"
     ]
    }
   ],
   "source": [
    "import math\n",
    "a = int(input(\"enter a number\"))\n",
    "b = int(input(\"enter number\"))\n",
    "c = int(input(\"number\"))\n",
    "z = math.sqrt(b**2 - 4*(a * c))\n",
    "\n",
    "x = (-b + z)/(2*a)\n",
    "print(x)\n",
    "\n",
    "y = (-b - z)/(2*a)\n",
    "print(y)\n"
   ]
  },
  {
   "cell_type": "code",
   "execution_count": 12,
   "metadata": {},
   "outputs": [
    {
     "name": "stdout",
     "output_type": "stream",
     "text": [
      "3\n"
     ]
    }
   ],
   "source": [
    "x =int(3.5)\n",
    "print(x)"
   ]
  }
 ],
 "metadata": {
  "kernelspec": {
   "display_name": "Python 3",
   "language": "python",
   "name": "python3"
  },
  "language_info": {
   "codemirror_mode": {
    "name": "ipython",
    "version": 3
   },
   "file_extension": ".py",
   "mimetype": "text/x-python",
   "name": "python",
   "nbconvert_exporter": "python",
   "pygments_lexer": "ipython3",
   "version": "3.11.5"
  },
  "orig_nbformat": 4
 },
 "nbformat": 4,
 "nbformat_minor": 2
}
